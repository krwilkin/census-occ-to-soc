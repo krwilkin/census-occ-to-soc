{
 "cells": [
  {
   "cell_type": "markdown",
   "metadata": {},
   "source": [
    "### Overview\n",
    "This Python program creates a crosswalk file for Census occupation codes and SOC codes. It produces an output JSON file that can be used to link with O\\*NET occupation data. The input for this file is available at [census.gov](https://www.census.gov/topics/employment/industry-occupation/guidance/code-lists.html) (see object `xwalk_url` below for explicit file name)."
   ]
  },
  {
   "cell_type": "code",
   "execution_count": 1,
   "metadata": {
    "collapsed": true
   },
   "outputs": [],
   "source": [
    "# import modules\n",
    "import os\n",
    "import xlrd\n",
    "import json\n",
    "import re\n",
    "import requests\n",
    "import urllib"
   ]
  },
  {
   "cell_type": "code",
   "execution_count": 2,
   "metadata": {
    "collapsed": true
   },
   "outputs": [],
   "source": [
    "# define url for excel file\n",
    "# NOTE: if error, do a google search for 'census industry and occupation codes' to validate url\n",
    "xwalk_url = 'https://www2.census.gov/programs-surveys/demo/guidance/industry-occupation/2018-occupation-code-list-and-crosswalk.xlsx'\n",
    "\n",
    "# retreive file\n",
    "file_name, header = urllib.request.urlretrieve( xwalk_url )\n",
    "\n",
    "#xl = xlrd.open_workbook( xwalk )\n",
    "xl = xlrd.open_workbook( file_name )\n",
    "sheet = xl.sheet_by_index( 1 )"
   ]
  },
  {
   "cell_type": "code",
   "execution_count": 3,
   "metadata": {
    "collapsed": true
   },
   "outputs": [],
   "source": [
    "# initialize empty list to store results\n",
    "xw = []"
   ]
  },
  {
   "cell_type": "code",
   "execution_count": 4,
   "metadata": {
    "collapsed": true
   },
   "outputs": [],
   "source": [
    "# define regular expression pattern to detect valid occupation codes\n",
    "repat = '^\\d{4}$'\n",
    "\n",
    "# define function to return dictionary object from an excel row\n",
    "def occout( xl_row ):\n",
    "    return( { 'occ_title' : xl_row[ 1 ].value ,\n",
    "              'cenocc' : xl_row[ 2 ].value ,\n",
    "              'soc' : xl_row[ 3 ].value } )\n",
    "\n",
    "# iterate over rows and store content to 'xwdict'\n",
    "# NOTE: valid census code in column 'C' (i.e., column index 2)\n",
    "for i in range( 0 , sheet.nrows ):\n",
    "    if sheet.cell_type( i , 2 ) == 1:\n",
    "        if len( re.findall( repat , sheet.cell( i , 2 ).value ) ) > 0:\n",
    "            xw.append( occout( sheet.row( i ) ) )"
   ]
  },
  {
   "cell_type": "code",
   "execution_count": 5,
   "metadata": {
    "collapsed": true
   },
   "outputs": [],
   "source": [
    "# export file to json\n",
    "with open( 'soc_census_xwalk.json' , 'w' ) as f:\n",
    "    json.dump( xw , f , indent = 4 )"
   ]
  },
  {
   "cell_type": "code",
   "execution_count": null,
   "metadata": {
    "collapsed": true
   },
   "outputs": [],
   "source": []
  }
 ],
 "metadata": {
  "kernelspec": {
   "display_name": "Python 3",
   "language": "python",
   "name": "python3"
  },
  "language_info": {
   "codemirror_mode": {
    "name": "ipython",
    "version": 3
   },
   "file_extension": ".py",
   "mimetype": "text/x-python",
   "name": "python",
   "nbconvert_exporter": "python",
   "pygments_lexer": "ipython3",
   "version": "3.6.3"
  }
 },
 "nbformat": 4,
 "nbformat_minor": 4
}
